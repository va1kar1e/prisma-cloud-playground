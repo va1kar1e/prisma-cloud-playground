{
 "cells": [
  {
   "cell_type": "markdown",
   "metadata": {},
   "source": [
    "# Search"
   ]
  },
  {
   "cell_type": "code",
   "execution_count": null,
   "metadata": {},
   "outputs": [],
   "source": [
    "from prismacloud_authen import PrismaCloudAuthentication\n",
    "import requests"
   ]
  },
  {
   "cell_type": "code",
   "execution_count": null,
   "metadata": {},
   "outputs": [],
   "source": [
    "PrismaCloudAuthentication = PrismaCloudAuthentication()"
   ]
  },
  {
   "cell_type": "markdown",
   "metadata": {},
   "source": [
    "## Create Session"
   ]
  },
  {
   "cell_type": "code",
   "execution_count": null,
   "metadata": {},
   "outputs": [],
   "source": [
    "BASE_URL = PrismaCloudAuthentication.getHostname()\n",
    "TOKEN = PrismaCloudAuthentication.login()"
   ]
  },
  {
   "cell_type": "markdown",
   "metadata": {},
   "source": [
    "### Refresh Session"
   ]
  },
  {
   "cell_type": "code",
   "execution_count": null,
   "metadata": {},
   "outputs": [],
   "source": [
    "# Generate New Token Key\n",
    "TOKEN = PrismaCloudAuthentication.extendSession(TOKEN=TOKEN)"
   ]
  },
  {
   "cell_type": "markdown",
   "metadata": {},
   "source": [
    "## Perform Config Search"
   ]
  },
  {
   "cell_type": "code",
   "execution_count": 1,
   "metadata": {},
   "outputs": [],
   "source": [
    "def searchByConfig():\n",
    "    searchByConfigUrl = BASE_URL + \"/search/config\"\n",
    "    \n",
    "\n",
    "    headers = {\n",
    "        \"content-type\": \"application/json; charset=UTF-8\",\n",
    "        \"x-redlock-auth\": str(TOKEN)\n",
    "    }\n",
    "    \n",
    "#     payload = {\n",
    "#         \"id\": \"string\",\n",
    "#         \"limit\": 0,\n",
    "#         \"query\": \"string\",\n",
    "#         \"searchDescription\": \"string\",\n",
    "#         \"searchName\": \"string\",\n",
    "#         \"sort\": [\n",
    "#             {\n",
    "#                 \"direction\": \"ASC\",\n",
    "#                 \"field\": \"ID\"\n",
    "#             }\n",
    "#         ],\n",
    "#         \"timeRange\": {\n",
    "#             \"relativeTimeType\": \"BACKWARD\",\n",
    "#             \"type\": \"relative\",\n",
    "#             \"value\": {\n",
    "#                 \"amount\": 0,\n",
    "#                 \"unit\": \"minute\"\n",
    "#             }\n",
    "#         },\n",
    "#         \"withResourceJson\": True\n",
    "#     }\n",
    "\n",
    "    r = requests.request(\"GET\", searchByConfigUrl, headers=headers, params=payload)\n",
    "    if r.status_code == 200:\n",
    "        return r.json()"
   ]
  },
  {
   "cell_type": "code",
   "execution_count": null,
   "metadata": {},
   "outputs": [],
   "source": [
    "searchByConfig()"
   ]
  },
  {
   "cell_type": "markdown",
   "metadata": {},
   "source": [
    "## "
   ]
  },
  {
   "cell_type": "code",
   "execution_count": null,
   "metadata": {},
   "outputs": [],
   "source": []
  },
  {
   "cell_type": "markdown",
   "metadata": {},
   "source": []
  },
  {
   "cell_type": "code",
   "execution_count": null,
   "metadata": {},
   "outputs": [],
   "source": []
  },
  {
   "cell_type": "markdown",
   "metadata": {},
   "source": []
  },
  {
   "cell_type": "code",
   "execution_count": null,
   "metadata": {},
   "outputs": [],
   "source": []
  }
 ],
 "metadata": {
  "kernelspec": {
   "display_name": "Python 3",
   "language": "python",
   "name": "python3"
  },
  "language_info": {
   "codemirror_mode": {
    "name": "ipython",
    "version": 3
   },
   "file_extension": ".py",
   "mimetype": "text/x-python",
   "name": "python",
   "nbconvert_exporter": "python",
   "pygments_lexer": "ipython3",
   "version": "3.8.3"
  }
 },
 "nbformat": 4,
 "nbformat_minor": 4
}
