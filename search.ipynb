{
 "cells": [
  {
   "cell_type": "markdown",
   "metadata": {},
   "source": [
    "# Search"
   ]
  },
  {
   "cell_type": "code",
   "execution_count": null,
   "metadata": {},
   "outputs": [],
   "source": [
    "from prismacloud_authen import PrismaCloudAuthentication\n",
    "import requests\n",
    "import pandas as pd"
   ]
  },
  {
   "cell_type": "code",
   "execution_count": null,
   "metadata": {},
   "outputs": [],
   "source": [
    "PrismaCloudAuthentication = PrismaCloudAuthentication()"
   ]
  },
  {
   "cell_type": "markdown",
   "metadata": {},
   "source": [
    "## Create Session"
   ]
  },
  {
   "cell_type": "code",
   "execution_count": null,
   "metadata": {},
   "outputs": [],
   "source": [
    "BASE_URL = PrismaCloudAuthentication.getHostname()\n",
    "TOKEN = PrismaCloudAuthentication.login()"
   ]
  },
  {
   "cell_type": "markdown",
   "metadata": {},
   "source": [
    "### Refresh Session"
   ]
  },
  {
   "cell_type": "code",
   "execution_count": null,
   "metadata": {},
   "outputs": [],
   "source": [
    "# Generate New Token Key\n",
    "TOKEN = PrismaCloudAuthentication.extendSession(TOKEN=TOKEN)"
   ]
  },
  {
   "cell_type": "markdown",
   "metadata": {},
   "source": [
    "## Perform Config Search"
   ]
  },
  {
   "cell_type": "code",
   "execution_count": null,
   "metadata": {},
   "outputs": [],
   "source": [
    "def searchByConfig():\n",
    "    searchByConfigUrl = BASE_URL + \"/search/config\"\n",
    "    \n",
    "\n",
    "    headers = {\n",
    "        \"content-type\": \"application/json; charset=UTF-8\",\n",
    "        \"x-redlock-auth\": str(TOKEN)\n",
    "    }\n",
    "    \n",
    "    payload = {\n",
    "        \"query\": \"config from cloud.resource where cloud.type = 'azure' AND cloud.service = 'Azure Compute'\",\n",
    "#         \"limit\": 20,\n",
    "        \"timeRange\": {\n",
    "             \"type\":\"relative\",\n",
    "             \"value\":{\n",
    "                \"unit\":\"hour\",\n",
    "                \"amount\":24\n",
    "             }\n",
    "        },\n",
    "        \"withResourceJson\": True\n",
    "    }\n",
    "\n",
    "    r = requests.request(\"POST\", searchByConfigUrl, headers=headers, json=payload)\n",
    "    if r.status_code == 200:\n",
    "        return r.json()\n",
    "    else:\n",
    "        print(r.status_code)"
   ]
  },
  {
   "cell_type": "code",
   "execution_count": null,
   "metadata": {},
   "outputs": [],
   "source": [
    "pd.DataFrame(searchByConfig())"
   ]
  },
  {
   "cell_type": "markdown",
   "metadata": {},
   "source": [
    "## "
   ]
  },
  {
   "cell_type": "code",
   "execution_count": null,
   "metadata": {},
   "outputs": [],
   "source": []
  },
  {
   "cell_type": "markdown",
   "metadata": {},
   "source": []
  },
  {
   "cell_type": "code",
   "execution_count": null,
   "metadata": {},
   "outputs": [],
   "source": []
  },
  {
   "cell_type": "markdown",
   "metadata": {},
   "source": []
  },
  {
   "cell_type": "code",
   "execution_count": null,
   "metadata": {},
   "outputs": [],
   "source": []
  }
 ],
 "metadata": {
  "kernelspec": {
   "display_name": "Python 3",
   "language": "python",
   "name": "python3"
  },
  "language_info": {
   "codemirror_mode": {
    "name": "ipython",
    "version": 3
   },
   "file_extension": ".py",
   "mimetype": "text/x-python",
   "name": "python",
   "nbconvert_exporter": "python",
   "pygments_lexer": "ipython3",
   "version": "3.8.8"
  }
 },
 "nbformat": 4,
 "nbformat_minor": 4
}
