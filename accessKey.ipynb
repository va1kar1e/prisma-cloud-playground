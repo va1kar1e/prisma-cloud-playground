{
 "cells": [
  {
   "cell_type": "markdown",
   "metadata": {},
   "source": [
    "# Access Keys"
   ]
  },
  {
   "cell_type": "code",
   "execution_count": null,
   "metadata": {},
   "outputs": [],
   "source": [
    "from prismacloud_authen import PrismaCloudAuthentication\n",
    "import requests\n",
    "from datetime import datetime, timedelta"
   ]
  },
  {
   "cell_type": "code",
   "execution_count": null,
   "metadata": {},
   "outputs": [],
   "source": [
    "PrismaCloudAuthentication = PrismaCloudAuthentication()"
   ]
  },
  {
   "cell_type": "markdown",
   "metadata": {},
   "source": [
    "## Create Session"
   ]
  },
  {
   "cell_type": "code",
   "execution_count": null,
   "metadata": {},
   "outputs": [],
   "source": [
    "BASE_URL = PrismaCloudAuthentication.getHostname()\n",
    "TOKEN = PrismaCloudAuthentication.login()"
   ]
  },
  {
   "cell_type": "markdown",
   "metadata": {},
   "source": [
    "### Refresh Session"
   ]
  },
  {
   "cell_type": "code",
   "execution_count": null,
   "metadata": {},
   "outputs": [],
   "source": [
    "# Generate New Token Key\n",
    "TOKEN = PrismaCloudAuthentication.extendSession(TOKEN=TOKEN)"
   ]
  },
  {
   "cell_type": "markdown",
   "metadata": {},
   "source": [
    "## List Access Keys"
   ]
  },
  {
   "cell_type": "code",
   "execution_count": null,
   "metadata": {},
   "outputs": [],
   "source": [
    "def getAllAccessKeys():\n",
    "    getAllAccessKeysUrl = BASE_URL + \"/access_keys\"\n",
    "    headers = {\n",
    "        \"content-type\": \"application/json; charset=UTF-8\",\n",
    "        \"x-redlock-auth\": str(TOKEN)\n",
    "    }\n",
    "    \n",
    "    r = requests.request(\"GET\", getAllAccessKeysUrl, headers=headers)\n",
    "    if r.status_code == 200:\n",
    "        return r.json()"
   ]
  },
  {
   "cell_type": "code",
   "execution_count": null,
   "metadata": {
    "scrolled": false
   },
   "outputs": [],
   "source": [
    "allAccessKeys = getAllAccessKeys()\n",
    "allAccessKeys"
   ]
  },
  {
   "cell_type": "markdown",
   "metadata": {},
   "source": [
    "## List Access Keys By Access ID"
   ]
  },
  {
   "cell_type": "code",
   "execution_count": null,
   "metadata": {},
   "outputs": [],
   "source": [
    "def getAccessKeys(accessID):\n",
    "    getAccessKeysUrl = BASE_URL + \"/access_keys/\" + str(accessID)\n",
    "    headers = {\n",
    "        \"content-type\": \"application/json; charset=UTF-8\",\n",
    "        \"x-redlock-auth\": str(TOKEN)\n",
    "    }\n",
    "    \n",
    "    r = requests.request(\"GET\", getAccessKeysUrl, headers=headers)\n",
    "    if r.status_code == 200:\n",
    "        return r.json()"
   ]
  },
  {
   "cell_type": "code",
   "execution_count": null,
   "metadata": {
    "scrolled": false
   },
   "outputs": [],
   "source": [
    "accessID = \"\"\n",
    "accessKeys = getAccessKeys(accessID=accessID)\n",
    "accessKeys"
   ]
  },
  {
   "cell_type": "markdown",
   "metadata": {},
   "source": [
    "## Add Access Keys"
   ]
  },
  {
   "cell_type": "code",
   "execution_count": null,
   "metadata": {},
   "outputs": [],
   "source": [
    "def addAccessKey(name=\"\", expiresOn=0, serviceAccountName=\"\"):\n",
    "    addAccessKeyUrl = BASE_URL + \"/access_keys\"\n",
    "    headers = {\n",
    "        \"content-type\": \"application/json\",\n",
    "        \"x-redlock-auth\": str(TOKEN)\n",
    "    }\n",
    "    \n",
    "    payload = {\n",
    "        \"expiresOn\": expiresOn,\n",
    "        \"name\": str(name),\n",
    "        \"serviceAccountName\": str(serviceAccountName)\n",
    "    }\n",
    "    \n",
    "    r = requests.request(\"POST\", addAccessKeyUrl, json=payload, headers=headers)\n",
    "    if r.status_code == 200:\n",
    "        return r.json()\n",
    "    print(f'[%d] %s' % (r.status_code, r.text))"
   ]
  },
  {
   "cell_type": "code",
   "execution_count": null,
   "metadata": {},
   "outputs": [],
   "source": [
    "name = \"Test\"\n",
    "expiresOn = datetime.now() + timedelta(weeks=4) # Timestamp in milliseconds when access key expires\n",
    "expiresOn = round(expiresOn.timestamp() * 1000)\n",
    "serviceAccountName = \"\""
   ]
  },
  {
   "cell_type": "code",
   "execution_count": null,
   "metadata": {
    "scrolled": true
   },
   "outputs": [],
   "source": [
    "accessKeys = addAccessKey(name=name, expiresOn=expiresOn, serviceAccountName=serviceAccountName)\n",
    "accessKeys"
   ]
  },
  {
   "cell_type": "markdown",
   "metadata": {},
   "source": [
    "## Delete Access Keys"
   ]
  },
  {
   "cell_type": "code",
   "execution_count": null,
   "metadata": {},
   "outputs": [],
   "source": [
    "def deleteAccessKey(accessID=\"\"):\n",
    "    deleteAccessKeyUrl = BASE_URL + \"/access_keys/\" + str(accessID)\n",
    "    headers = {\n",
    "        \"content-type\": \"application/json\",\n",
    "        \"x-redlock-auth\": str(TOKEN)\n",
    "    }\n",
    "    \n",
    "    r = requests.request(\"DELETE\", deleteAccessKeyUrl, headers=headers)\n",
    "    print(f'[%d] %s' % (r.status_code, r.text))\n",
    "    "
   ]
  },
  {
   "cell_type": "code",
   "execution_count": null,
   "metadata": {
    "scrolled": true
   },
   "outputs": [],
   "source": [
    "accessID = \"\"\n",
    "deleteAccessKey(accessID=accessID)"
   ]
  },
  {
   "cell_type": "code",
   "execution_count": null,
   "metadata": {},
   "outputs": [],
   "source": []
  }
 ],
 "metadata": {
  "kernelspec": {
   "display_name": "Python 3",
   "language": "python",
   "name": "python3"
  },
  "language_info": {
   "codemirror_mode": {
    "name": "ipython",
    "version": 3
   },
   "file_extension": ".py",
   "mimetype": "text/x-python",
   "name": "python",
   "nbconvert_exporter": "python",
   "pygments_lexer": "ipython3",
   "version": "3.8.8"
  }
 },
 "nbformat": 4,
 "nbformat_minor": 4
}
