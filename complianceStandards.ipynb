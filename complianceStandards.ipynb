{
 "cells": [
  {
   "cell_type": "markdown",
   "metadata": {},
   "source": [
    "# Compliance Standards"
   ]
  },
  {
   "cell_type": "code",
   "execution_count": null,
   "metadata": {},
   "outputs": [],
   "source": [
    "from prismacloud_authen import PrismaCloudAuthentication\n",
    "import requests\n",
    "import pandas as pd"
   ]
  },
  {
   "cell_type": "code",
   "execution_count": null,
   "metadata": {},
   "outputs": [],
   "source": [
    "PrismaCloudAuthentication = PrismaCloudAuthentication()"
   ]
  },
  {
   "cell_type": "markdown",
   "metadata": {},
   "source": [
    "## Create Session"
   ]
  },
  {
   "cell_type": "code",
   "execution_count": null,
   "metadata": {},
   "outputs": [],
   "source": [
    "BASE_URL = PrismaCloudAuthentication.getHostname()\n",
    "TOKEN = PrismaCloudAuthentication.login()"
   ]
  },
  {
   "cell_type": "markdown",
   "metadata": {},
   "source": [
    "### Refresh Session"
   ]
  },
  {
   "cell_type": "code",
   "execution_count": null,
   "metadata": {},
   "outputs": [],
   "source": [
    "# Generate New Token Key\n",
    "TOKEN = PrismaCloudAuthentication.extendSession(TOKEN=TOKEN)"
   ]
  },
  {
   "cell_type": "markdown",
   "metadata": {},
   "source": [
    "## List Compliance Standards"
   ]
  },
  {
   "cell_type": "code",
   "execution_count": null,
   "metadata": {},
   "outputs": [],
   "source": [
    "def getAllComplianceStandards():\n",
    "    getAllComplianceStandardsUrl = BASE_URL + \"/compliance\"\n",
    "    \n",
    "    headers = {\n",
    "        \"content-type\": \"application/json; charset=UTF-8\",\n",
    "        \"x-redlock-auth\": str(TOKEN)\n",
    "    }\n",
    "    \n",
    "    r = requests.request(\"GET\", getAllComplianceStandardsUrl, headers=headers)\n",
    "    if r.status_code == 200:\n",
    "        return r.json()"
   ]
  },
  {
   "cell_type": "code",
   "execution_count": null,
   "metadata": {},
   "outputs": [],
   "source": [
    "complianceStd_df = pd.DataFrame(getAllComplianceStandards())"
   ]
  },
  {
   "cell_type": "code",
   "execution_count": null,
   "metadata": {},
   "outputs": [],
   "source": [
    "complianceStd_df[\n",
    "    complianceStd_df[\"name\"].str.contains(\"CIS\") & \n",
    "    complianceStd_df[\"name\"].str.contains(\"Azure|AWS|GCP\") &\n",
    "    complianceStd_df[\"name\"].str.contains(\"\")\n",
    "]"
   ]
  },
  {
   "cell_type": "markdown",
   "metadata": {},
   "source": [
    "## List Compliance Requirements"
   ]
  },
  {
   "cell_type": "code",
   "execution_count": null,
   "metadata": {},
   "outputs": [],
   "source": [
    "def getAllComplianceRequirements(complianceId=\"\"):\n",
    "    getAllComplianceRequirementsUrl = BASE_URL + \"/compliance/\" + str(complianceId) + \"/requirement\"\n",
    "    \n",
    "    headers = {\n",
    "        \"content-type\": \"application/json; charset=UTF-8\",\n",
    "        \"x-redlock-auth\": str(TOKEN)\n",
    "    }\n",
    "    \n",
    "    r = requests.request(\"GET\", getAllComplianceRequirementsUrl, headers=headers)\n",
    "    if r.status_code == 200:\n",
    "        return r.json()"
   ]
  },
  {
   "cell_type": "code",
   "execution_count": null,
   "metadata": {},
   "outputs": [],
   "source": [
    "complianceId=\"\"\n",
    "complianceReq_df = pd.DataFrame(getAllComplianceRequirements(complianceId=complianceId))"
   ]
  },
  {
   "cell_type": "code",
   "execution_count": null,
   "metadata": {},
   "outputs": [],
   "source": [
    "complianceReq_df"
   ]
  },
  {
   "cell_type": "markdown",
   "metadata": {},
   "source": [
    "## List Compliance Requirement Sections"
   ]
  },
  {
   "cell_type": "code",
   "execution_count": null,
   "metadata": {},
   "outputs": [],
   "source": [
    "def getAllComplianceRequirementSections(requirementId=\"\"):\n",
    "    getAllComplianceRequirementSectionsUrl = BASE_URL + \"/compliance/\" + str(requirementId) + \"/section\"\n",
    "    \n",
    "    headers = {\n",
    "        \"content-type\": \"application/json; charset=UTF-8\",\n",
    "        \"x-redlock-auth\": str(TOKEN)\n",
    "    }\n",
    "    \n",
    "    r = requests.request(\"GET\", getAllComplianceRequirementSectionsUrl, headers=headers)\n",
    "    if r.status_code == 200:\n",
    "        return r.json()"
   ]
  },
  {
   "cell_type": "code",
   "execution_count": null,
   "metadata": {},
   "outputs": [],
   "source": [
    "requirementId=\"\"\n",
    "complianceReqSec_df = pd.DataFrame(getAllComplianceRequirementSections(requirementId=requirementId))"
   ]
  },
  {
   "cell_type": "code",
   "execution_count": null,
   "metadata": {},
   "outputs": [],
   "source": [
    "complianceReqSec_df"
   ]
  },
  {
   "cell_type": "markdown",
   "metadata": {},
   "source": []
  },
  {
   "cell_type": "code",
   "execution_count": null,
   "metadata": {},
   "outputs": [],
   "source": []
  }
 ],
 "metadata": {
  "kernelspec": {
   "display_name": "Python 3",
   "language": "python",
   "name": "python3"
  },
  "language_info": {
   "codemirror_mode": {
    "name": "ipython",
    "version": 3
   },
   "file_extension": ".py",
   "mimetype": "text/x-python",
   "name": "python",
   "nbconvert_exporter": "python",
   "pygments_lexer": "ipython3",
   "version": "3.8.8"
  }
 },
 "nbformat": 4,
 "nbformat_minor": 4
}
