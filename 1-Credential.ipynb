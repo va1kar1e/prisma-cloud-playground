{
 "cells": [
  {
   "cell_type": "markdown",
   "metadata": {},
   "source": [
    "# 1-Credential"
   ]
  },
  {
   "cell_type": "code",
   "execution_count": null,
   "metadata": {},
   "outputs": [],
   "source": [
    "from requests import request\n",
    "from datetime import datetime, timedelta"
   ]
  },
  {
   "cell_type": "code",
   "execution_count": null,
   "metadata": {},
   "outputs": [],
   "source": [
    "BASE_URL = \"https://api.sg.prismacloud.io\"\n",
    "ACCESS_CREDENTIAL = {\n",
    "    \"ACCESS_ID\" : \"\",\n",
    "    \"ACCESS_KEY\" : \"\"\n",
    "}"
   ]
  },
  {
   "cell_type": "markdown",
   "metadata": {},
   "source": [
    "## Authentication Token Function"
   ]
  },
  {
   "cell_type": "code",
   "execution_count": null,
   "metadata": {},
   "outputs": [],
   "source": [
    "def getSessionTime():\n",
    "    given_time = datetime.now()\n",
    "    final_time = given_time + timedelta(minutes=10)\n",
    "\n",
    "    print(f\"Created Time : %s\\nExpired Time : %s\" % (given_time.strftime('%Y-%m-%d %H:%M:%S'), final_time.strftime('%Y-%m-%d %H:%M:%S')))\n",
    "    print(\"Duration : 10 Minutes\")"
   ]
  },
  {
   "cell_type": "code",
   "execution_count": null,
   "metadata": {},
   "outputs": [],
   "source": [
    "def login(ACCESS_CREDENTIAL={}):\n",
    "    loginURL = str(BASE_URL) + \"/login\"\n",
    "    \n",
    "    HEADERS = {\"content-type\": \"application/json; charset=UTF-8\"}\n",
    "    \n",
    "    payload = {\n",
    "        \"username\": str(ACCESS_CREDENTIAL[\"ACCESS_ID\"]),\n",
    "        \"password\": str(ACCESS_CREDENTIAL[\"ACCESS_KEY\"])\n",
    "    }\n",
    "\n",
    "    r = request(\"POST\", loginURL, json=payload, headers=HEADERS) \n",
    "    if r.status_code == 200:\n",
    "        r = r.json()\n",
    "        print(\"Getting Token Successful\")\n",
    "        getSessionTime()\n",
    "        return r[\"token\"]\n",
    "    print(f'[%d] %s' % (r.status_code, r.json()[\"message\"]))\n",
    "    return None\n"
   ]
  },
  {
   "cell_type": "markdown",
   "metadata": {},
   "source": [
    "Note: The JWT token is available for 10-minutes. After this time has elapsed, run this POST command again to generate a fresh JWT token. Note: If your POST call was successful you will get a 200 response status."
   ]
  },
  {
   "cell_type": "code",
   "execution_count": null,
   "metadata": {},
   "outputs": [],
   "source": [
    "token = login(ACCESS_CREDENTIAL=ACCESS_CREDENTIAL)"
   ]
  },
  {
   "cell_type": "code",
   "execution_count": null,
   "metadata": {},
   "outputs": [],
   "source": [
    "def extendSession():\n",
    "    # Generate New Token\n",
    "    extendSessionurl = str(BASE_URL) + \"/auth_token/extend\"\n",
    "\n",
    "    HEADERS = {\n",
    "        \"content-type\": \"application/json\", \n",
    "        \"x-redlock-auth\": str(token)\n",
    "    }\n",
    "    \n",
    "    r = request(\"GET\", extendSessionurl, headers=HEADERS)\n",
    "    if r.status_code == 200:\n",
    "        r = r.json()\n",
    "        print(\"Getting Token Successful\")\n",
    "        getSessionTime()\n",
    "        return r[\"token\"]\n",
    "    print(f'[%d] %s' % (r.status_code, r.text))\n",
    "    return None\n"
   ]
  },
  {
   "cell_type": "code",
   "execution_count": null,
   "metadata": {},
   "outputs": [],
   "source": [
    "token = extendSession()"
   ]
  }
 ],
 "metadata": {
  "kernelspec": {
   "display_name": "Python 3",
   "language": "python",
   "name": "python3"
  },
  "language_info": {
   "codemirror_mode": {
    "name": "ipython",
    "version": 3
   },
   "file_extension": ".py",
   "mimetype": "text/x-python",
   "name": "python",
   "nbconvert_exporter": "python",
   "pygments_lexer": "ipython3",
   "version": "3.8.3"
  }
 },
 "nbformat": 4,
 "nbformat_minor": 4
}
