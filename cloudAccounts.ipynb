{
 "cells": [
  {
   "cell_type": "markdown",
   "metadata": {},
   "source": [
    "# Cloud Account"
   ]
  },
  {
   "cell_type": "code",
   "execution_count": null,
   "metadata": {},
   "outputs": [],
   "source": [
    "from prismacloud_authen import PrismaCloudAuthentication\n",
    "import requests\n",
    "import pandas as pd"
   ]
  },
  {
   "cell_type": "code",
   "execution_count": null,
   "metadata": {},
   "outputs": [],
   "source": [
    "PrismaCloudAuthentication = PrismaCloudAuthentication()"
   ]
  },
  {
   "cell_type": "markdown",
   "metadata": {},
   "source": [
    "## Create Session"
   ]
  },
  {
   "cell_type": "code",
   "execution_count": null,
   "metadata": {},
   "outputs": [],
   "source": [
    "BASE_URL = PrismaCloudAuthentication.getHostname()\n",
    "TOKEN = PrismaCloudAuthentication.login()"
   ]
  },
  {
   "cell_type": "markdown",
   "metadata": {},
   "source": [
    "### Refresh Session"
   ]
  },
  {
   "cell_type": "code",
   "execution_count": null,
   "metadata": {},
   "outputs": [],
   "source": [
    "# Generate New Token Key\n",
    "TOKEN = PrismaCloudAuthentication.extendSession(TOKEN=TOKEN)"
   ]
  },
  {
   "cell_type": "markdown",
   "metadata": {},
   "source": [
    "## List All Cloud Accounts"
   ]
  },
  {
   "cell_type": "code",
   "execution_count": null,
   "metadata": {},
   "outputs": [],
   "source": [
    "def getAllCloudAccount():\n",
    "    getAllCloudAccountUrl = BASE_URL + \"/cloud\"\n",
    "    \n",
    "    headers = {\n",
    "        \"content-type\": \"application/json; charset=UTF-8\",\n",
    "        \"x-redlock-auth\": str(TOKEN)\n",
    "    }\n",
    "    \n",
    "    querystring = {\n",
    "        #\"excludeAccountGroupDetails\":\"True\"\n",
    "    }\n",
    "\n",
    "    r = requests.request(\"GET\", getAllCloudAccountUrl, headers=headers, params=querystring)\n",
    "    if r.status_code == 200:\n",
    "        return r.json()"
   ]
  },
  {
   "cell_type": "code",
   "execution_count": null,
   "metadata": {},
   "outputs": [],
   "source": [
    "pd.DataFrame(getAllCloudAccount())"
   ]
  },
  {
   "cell_type": "markdown",
   "metadata": {},
   "source": [
    "## List Cloud Account Names - GET"
   ]
  },
  {
   "cell_type": "code",
   "execution_count": null,
   "metadata": {},
   "outputs": [],
   "source": [
    "def getAllCloudAccounName():\n",
    "    getAllCloudAccountNameUrl = BASE_URL + \"/cloud/name\"\n",
    "    \n",
    "    headers = {\n",
    "        \"content-type\": \"application/json; charset=UTF-8\",\n",
    "        \"x-redlock-auth\": str(TOKEN)\n",
    "    }\n",
    "    \n",
    "    querystring = {\n",
    "#         \"onlyActive\":\"True\",\n",
    "#         \"accountGroupIds\":[\"SOME_ARRAY_VALUE\"],\n",
    "#         \"cloudType\":\"SOME_STRING_VALUE\" # \"aws\",\"azure\",\"gcp\",\"alibaba_cloud\",\"oci\" options\n",
    "    }\n",
    "\n",
    "    r = requests.request(\"GET\", getAllCloudAccountNameUrl, headers=headers, params=querystring)\n",
    "    if r.status_code == 200:\n",
    "        return r.json()"
   ]
  },
  {
   "cell_type": "code",
   "execution_count": null,
   "metadata": {},
   "outputs": [],
   "source": [
    "pd.DataFrame(getAllCloudAccounName())"
   ]
  },
  {
   "cell_type": "markdown",
   "metadata": {},
   "source": []
  },
  {
   "cell_type": "code",
   "execution_count": null,
   "metadata": {},
   "outputs": [],
   "source": []
  },
  {
   "cell_type": "markdown",
   "metadata": {},
   "source": []
  },
  {
   "cell_type": "code",
   "execution_count": null,
   "metadata": {},
   "outputs": [],
   "source": []
  }
 ],
 "metadata": {
  "kernelspec": {
   "display_name": "Python 3",
   "language": "python",
   "name": "python3"
  },
  "language_info": {
   "codemirror_mode": {
    "name": "ipython",
    "version": 3
   },
   "file_extension": ".py",
   "mimetype": "text/x-python",
   "name": "python",
   "nbconvert_exporter": "python",
   "pygments_lexer": "ipython3",
   "version": "3.8.3"
  }
 },
 "nbformat": 4,
 "nbformat_minor": 4
}
